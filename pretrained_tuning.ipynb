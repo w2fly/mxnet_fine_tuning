{
 "cells": [
  {
   "cell_type": "markdown",
   "metadata": {},
   "source": [
    "## The same as in ONNX_tuning.ipynb but for source i took pretraned model from saved checkpoint"
   ]
  },
  {
   "cell_type": "code",
   "execution_count": 1,
   "metadata": {},
   "outputs": [],
   "source": [
    "import mxnet as mx\n",
    "import mxnet.ndarray as nd\n",
    "from mxnet.gluon import nn\n",
    "import numpy as np\n",
    "\n",
    "ctx = mx.cpu()"
   ]
  },
  {
   "cell_type": "code",
   "execution_count": 2,
   "metadata": {},
   "outputs": [],
   "source": [
    "def transform(image):\n",
    "    resized = mx.image.resize_short(image, 224) #minimum 224x224 images\n",
    "    cropped, crop_info = mx.image.center_crop(resized, (224, 224))\n",
    "    normalized = mx.image.color_normalize(cropped.astype(np.float32)/255,\n",
    "                                      mean=mx.nd.array([0.485, 0.456, 0.406]),\n",
    "                                      std=mx.nd.array([0.229, 0.224, 0.225]))\n",
    "    # the network expect batches of the form (N,3,224,224)\n",
    "    transposed = normalized.transpose((2,0,1))  # Transposing from (224, 224, 3) to (3, 224, 224)\n",
    "    batchified = transposed.expand_dims(axis=0) # change the shape from (3, 224, 224) to (1, 3, 224, 224)\n",
    "    return batchified"
   ]
  },
  {
   "cell_type": "code",
   "execution_count": 3,
   "metadata": {},
   "outputs": [],
   "source": [
    "filename = 'test.jpg'\n",
    "image = mx.image.imread(filename)\n",
    "normalized = transform(image)"
   ]
  },
  {
   "cell_type": "code",
   "execution_count": 4,
   "metadata": {},
   "outputs": [],
   "source": [
    "sym, arg_params, aux_params = mx.model.load_checkpoint('mobilenet_v2_1_0', 1)\n",
    "\n",
    "all_layers = sym.get_internals()\n",
    "#print(all_layers)"
   ]
  },
  {
   "cell_type": "markdown",
   "metadata": {},
   "source": [
    "### if you want to get other output layer, uncomment next two rows, look and select"
   ]
  },
  {
   "cell_type": "code",
   "execution_count": 5,
   "metadata": {},
   "outputs": [],
   "source": [
    "#output_names = all_layers.list_outputs()\n",
    "#print(output_names)"
   ]
  },
  {
   "cell_type": "markdown",
   "metadata": {},
   "source": [
    "### and again I create new_args but skip new_aux"
   ]
  },
  {
   "cell_type": "code",
   "execution_count": 6,
   "metadata": {},
   "outputs": [],
   "source": [
    "layer_name = 'mobilenetv20_features_batchnorm1_fwd'\n",
    "#layer_name = 'mobilenetv20_output_flatten0_flatten0'\n",
    "\n",
    "new_sym = all_layers[layer_name+'_output']\n",
    "new_args = dict({k:arg_params[k] for k in arg_params if k in new_sym.list_arguments()})\n",
    "\n",
    "import warnings\n",
    "with warnings.catch_warnings():\n",
    "    warnings.simplefilter(\"ignore\")\n",
    "    pre_trained = nn.SymbolBlock(outputs=new_sym, inputs=mx.sym.var('data'))\n",
    "net_params = pre_trained.collect_params()\n",
    "\n",
    "for param in new_args:\n",
    "    if param in net_params:\n",
    "        net_params[param]._load_init(new_args[param], ctx=ctx)\n",
    "for param in aux_params:\n",
    "    if param in net_params:\n",
    "        net_params[param]._load_init(aux_params[param], ctx=ctx)\n",
    "\n",
    "net = nn.HybridSequential()\n",
    "with net.name_scope():\n",
    "    net.add(pre_trained)\n",
    "    #net.add(... your own layers ...)"
   ]
  },
  {
   "cell_type": "code",
   "execution_count": 7,
   "metadata": {},
   "outputs": [
    {
     "name": "stdout",
     "output_type": "stream",
     "text": [
      "(1, 1280, 7, 7)\n"
     ]
    }
   ],
   "source": [
    "rez=net(normalized)\n",
    "print(rez.asnumpy().shape)"
   ]
  },
  {
   "cell_type": "markdown",
   "metadata": {},
   "source": [
    "# YES!!!"
   ]
  },
  {
   "cell_type": "code",
   "execution_count": 8,
   "metadata": {},
   "outputs": [],
   "source": [
    "### Want to look model schema? Uncomment and run next row.\n",
    "#mx.visualization.plot_network(new_sym,  node_attrs={\"shape\":\"oval\",\"fixedsize\":\"false\"})"
   ]
  },
  {
   "cell_type": "code",
   "execution_count": null,
   "metadata": {},
   "outputs": [],
   "source": []
  }
 ],
 "metadata": {
  "kernelspec": {
   "display_name": "Python 3",
   "language": "python",
   "name": "python3"
  },
  "language_info": {
   "codemirror_mode": {
    "name": "ipython",
    "version": 3
   },
   "file_extension": ".py",
   "mimetype": "text/x-python",
   "name": "python",
   "nbconvert_exporter": "python",
   "pygments_lexer": "ipython3",
   "version": "3.8.3"
  }
 },
 "nbformat": 4,
 "nbformat_minor": 4
}
